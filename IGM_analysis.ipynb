{
 "cells": [
  {
   "cell_type": "markdown",
   "metadata": {},
   "source": [
    "<h3>Executive Summary</h3>\n",
    "Inter Galactic Medium (IGM) absorption\n",
    "1. The effect occurs for wavelengths shorter than 1216 &#8491; at their source and at a red shift greater than (about) 6.\n",
    "2. The apparent magnitudes of any given galaxy after the \"IGM correction\" will either be less or the same as the uncorrected values.  That is, the effect is one of absorption only.\n",
    "\n",
    "This notebook analyses the results of a TAO lightcone from the Millennium/SAGE simulation with the computed SED at selected \"bands\" and with the IGM absorption applied."
   ]
  },
  {
   "cell_type": "code",
   "execution_count": 6,
   "metadata": {},
   "outputs": [],
   "source": [
    "import matplotlib.pyplot as plt\n",
    "%matplotlib inline\n",
    "import pandas as pd\n",
    "import numpy as np"
   ]
  },
  {
   "cell_type": "markdown",
   "metadata": {},
   "source": [
    "Define functions to analyse the IGM results"
   ]
  },
  {
   "cell_type": "code",
   "execution_count": 7,
   "metadata": {},
   "outputs": [],
   "source": [
    "def find_selected_galaxies(z_target, delta_z, df):\n",
    "    \"\"\"Return galaxies of the dataframe df that have the z_target redshift within a tolerance of delta_z\"\"\"\n",
    "    low_z = z_target - delta_z\n",
    "    if low_z <= 0.0:\n",
    "        low_z = 0.0\n",
    "    \n",
    "    hi_z = z_target + delta_z\n",
    "    lyalpha_lambda = 1216.0 \n",
    "    \n",
    "    obs_lambda_low, obs_lambda_hi = (1 + low_z)*lyalpha_lambda, (1 + hi_z)*lyalpha_lambda\n",
    "    return (df['Redshift_Observed'] >= low_z) & (df['Redshift_Observed'] <= hi_z)"
   ]
  },
  {
   "cell_type": "code",
   "execution_count": 8,
   "metadata": {},
   "outputs": [],
   "source": [
    "def positive(diff):\n",
    "    return diff > 0"
   ]
  },
  {
   "cell_type": "code",
   "execution_count": 9,
   "metadata": {},
   "outputs": [],
   "source": [
    "def find_boosted_galaxies_after_absorption(filters_of_interest):\n",
    "    # Assert that the Galaxy_ID's of the two files (with and without) are lined up\n",
    "    min_galid_diff = min(without_igm_abs['Galaxy_ID'] - with_igm_abs['Galaxy_ID']) \n",
    "    max_galid_diff = max(without_igm_abs['Galaxy_ID'] - with_igm_abs['Galaxy_ID'])\n",
    "    assert(min_galid_diff == 0)\n",
    "    assert(max_galid_diff == 0)\n",
    "    ngal = len(without_igm_abs['Galaxy_ID'])\n",
    "    nboosted = 0\n",
    "    for filt in filters_of_interest:\n",
    "        # with IGM absorption mags should be fainter -> more positive\n",
    "        # therefore the diff should be negative if all went well.\n",
    "        # so let's check for cases where the diff is positive\n",
    "        diff = without_igm_abs[filt] - with_igm_abs[filt]\n",
    "        xx = (np.where(diff > 0.0))[0]\n",
    "        if len(xx) > 0:\n",
    "            maxdiff = max(abs(np.asarray(filter(positive,diff))))\n",
    "            nboosted = nboosted + len(xx)\n",
    "            print(\"Out of {} galaxies, {} galaxies have boosted mags in filter {}\".format(ngal,\n",
    "                                                                                          len(xx),\n",
    "                                                                                          filt))\n",
    "            print(\"Max. absolute diff = {}\".format(maxdiff))\n",
    "            print(\"Printing some of the worst sample galaxies\")\n",
    "            print(\"###########################################\")\n",
    "            print(\"{:>12} {:>12} {:>12} {:>6}\".format(\"GalaxyID\",\n",
    "                                           \"Mag(IGM)\",\n",
    "                                           \"Mag(no_IGM)\",\n",
    "                                            \"Diff\"))\n",
    "            print(\"###########################################\")\n",
    "            nsample = 10\n",
    "            for i in range(len(xx)):\n",
    "                idx = xx[i]\n",
    "                if (diff[idx] > maxdiff/2) :\n",
    "                    print(\"{:18} {:12.4f} {:12.4f} {:6.4f} {} {}\".format(\n",
    "                        with_igm_abs['Galaxy_ID'][idx],\n",
    "                        with_igm_abs[filt][idx],\n",
    "                        without_igm_abs[filt][idx],diff[idx],\n",
    "                        with_igm_abs[\"Redshift_Observed\"][idx],\n",
    "                        with_igm_abs[\"Redshift_Cosmological\"][idx]))\n",
    "                    nsample = nsample - 1\n",
    "                    if nsample == 0:\n",
    "                        break\n",
    "      \n",
    "\n",
    "    return nboosted"
   ]
  },
  {
   "cell_type": "code",
   "execution_count": 10,
   "metadata": {},
   "outputs": [
    {
     "name": "stdout",
     "output_type": "stream",
     "text": [
      "Reading the files with apparent and absolute mags\n"
     ]
    }
   ],
   "source": [
    "#with_igm_abs = pd.read_csv(\"data/sorted_rdb_withigm_much_more.csv\")\n",
    "#without_igm_abs = pd.read_csv(\"data/sorted_rdb_withoutigm_much_more.csv\")\n",
    "with_igm_abs = pd.read_csv(\"data/sorted_withigm_only.csv\")\n",
    "without_igm_abs = pd.read_csv(\"data/sorted_withoutigm_only.csv\")\n",
    "print(\"Reading the files with apparent and absolute mags\")\n",
    "\n"
   ]
  },
  {
   "cell_type": "code",
   "execution_count": 11,
   "metadata": {},
   "outputs": [],
   "source": [
    "\n",
    "igm_abs_mask = with_igm_abs[\"Redshift_Observed\"] > 5.5\n",
    "no_igm_abs_mask = without_igm_abs[\"Redshift_Observed\"] > 5.5\n",
    "\n"
   ]
  },
  {
   "cell_type": "code",
   "execution_count": 12,
   "metadata": {},
   "outputs": [
    {
     "data": {
      "text/plain": [
       "12818"
      ]
     },
     "execution_count": 12,
     "metadata": {},
     "output_type": "execute_result"
    }
   ],
   "source": [
    "len(with_igm_abs[\"Redshift_Observed\"][igm_abs_mask])"
   ]
  },
  {
   "cell_type": "code",
   "execution_count": 13,
   "metadata": {},
   "outputs": [
    {
     "data": {
      "text/plain": [
       "162626"
      ]
     },
     "execution_count": 13,
     "metadata": {},
     "output_type": "execute_result"
    }
   ],
   "source": [
    "len(with_igm_abs[\"Redshift_Observed\"])"
   ]
  },
  {
   "cell_type": "code",
   "execution_count": 14,
   "metadata": {},
   "outputs": [],
   "source": [
    "headers = with_igm_abs.dtypes.index"
   ]
  },
  {
   "cell_type": "code",
   "execution_count": 15,
   "metadata": {
    "scrolled": true
   },
   "outputs": [
    {
     "data": {
      "text/plain": [
       "Index([u'Total_Stellar_Mass', u'Bulge_Stellar_Mass', u'Black_Hole_Mass',\n",
       "       u'Cold_Gas_Mass', u'Hot_Gas_Mass', u'Ejected_Gas_Mass',\n",
       "       u'Intracluster_Stars_Mass', u'Metals_Total_Stellar_Mass',\n",
       "       u'Metals_Bulge_Mass', u'Metals_Cold_Gas_Mass', u'Metals_Hot_Gas_Mass',\n",
       "       u'Metals_Ejected_Gas_Mass', u'Metals_IntraCluster_Stars_Mass',\n",
       "       u'Galaxy_Classification', u'Disk_Scale_Radius',\n",
       "       u'Total_Star_Formation_Rate', u'Hot_Gas_Cooling_Rate',\n",
       "       u'AGN_Heating_Rate', u'Quasar_BH_Accretion_Mass',\n",
       "       u'Time_of_Last_Major_Merger', u'Time_of_Last_Minor_Merger',\n",
       "       u'Supernova_Cold_Gas_Outflow_Rate', u'Mvir', u'Rvir', u'Vvir', u'Vmax',\n",
       "       u'Velocity_Dispersion', u'X_Spin', u'Y_Spin', u'Z_Spin',\n",
       "       u'Total_Particles', u'Central_Galaxy_Mvir', u'Subhalo_Mvir_at_Infall',\n",
       "       u'Subhalo_Vvir_at_Infall', u'Subhalo_Vmax_at_Infall',\n",
       "       u'Maximum_circular_velocity_of_the_halo', u'Flyby_Flag',\n",
       "       u'Right_Ascension', u'Declination', u'Redshift_Cosmological',\n",
       "       u'Redshift_Observed', u'Distance', u'X', u'Y', u'Z', u'X_Velocity',\n",
       "       u'Y_Velocity', u'Z_Velocity', u'Snapshot_Number', u'Galaxy_ID',\n",
       "       u'Central_Galaxy_ID', u'Simulation_Halo_ID',\n",
       "       u'HST_WFC3_IR_F0.98M_Absolute', u'HST_WFC3_IR_F110W_Absolute',\n",
       "       u'HST_WFC3_IR_F105W_Absolute', u'HST_WFC3_IR_F140W_Absolute',\n",
       "       u'HST_WFC3_IR_F125W_Absolute', u'HST_WFC3_IR_F160W_Absolute',\n",
       "       u'Johnson_B_Absolute', u'Johnson_V_Absolute', u'Johnson_R_Absolute',\n",
       "       u'Johnson_I_Absolute', u'Johnson_J_Absolute', u'Johnson_H_Absolute',\n",
       "       u'Johnson_K_Absolute', u'SDSS_u_Absolute', u'SDSS_g_Absolute',\n",
       "       u'SDSS_r_Absolute', u'SDSS_i_Absolute', u'SDSS_z_Absolute',\n",
       "       u'TwoMASS_J_Absolute', u'TwoMASS_H_Absolute', u'TwoMASS_Ks_Absolute',\n",
       "       u'HST_WFC3_IR_F0.98M_Apparent', u'HST_WFC3_IR_F110W_Apparent',\n",
       "       u'HST_WFC3_IR_F105W_Apparent', u'HST_WFC3_IR_F140W_Apparent',\n",
       "       u'HST_WFC3_IR_F125W_Apparent', u'HST_WFC3_IR_F160W_Apparent',\n",
       "       u'Johnson_B_Apparent', u'Johnson_V_Apparent', u'Johnson_R_Apparent',\n",
       "       u'Johnson_I_Apparent', u'Johnson_J_Apparent', u'Johnson_H_Apparent',\n",
       "       u'Johnson_K_Apparent', u'SDSS_u_Apparent', u'SDSS_g_Apparent',\n",
       "       u'SDSS_r_Apparent', u'SDSS_i_Apparent', u'SDSS_z_Apparent',\n",
       "       u'TwoMASS_J_Apparent', u'TwoMASS_H_Apparent', u'TwoMASS_Ks_Apparent'],\n",
       "      dtype='object')"
      ]
     },
     "execution_count": 15,
     "metadata": {},
     "output_type": "execute_result"
    }
   ],
   "source": [
    "headers"
   ]
  },
  {
   "cell_type": "code",
   "execution_count": 16,
   "metadata": {},
   "outputs": [],
   "source": [
    "z_target, delta_z = 2.0, 0.2\n",
    "absorbed_galaxy_inds = find_selected_galaxies(z_target, delta_z, with_igm_abs)\n",
    "unabsorbed_galaxy_inds = find_selected_galaxies(z_target, delta_z, without_igm_abs)"
   ]
  },
  {
   "cell_type": "markdown",
   "metadata": {},
   "source": [
    "Check that the galaxy_id's match"
   ]
  },
  {
   "cell_type": "code",
   "execution_count": 17,
   "metadata": {},
   "outputs": [],
   "source": [
    "assert(min(without_igm_abs[unabsorbed_galaxy_inds]['Galaxy_ID'] - with_igm_abs[absorbed_galaxy_inds]['Galaxy_ID'])==0)\n",
    "assert(max(without_igm_abs[unabsorbed_galaxy_inds]['Galaxy_ID'] - with_igm_abs[absorbed_galaxy_inds]['Galaxy_ID'])==0)"
   ]
  },
  {
   "cell_type": "code",
   "execution_count": 18,
   "metadata": {},
   "outputs": [],
   "source": [
    "z_target, delta_z = 9.0, 0.2\n",
    "filters_of_interest_absolute = ['HST_WFC3_IR_F0.98M_Absolute', 'HST_WFC3_IR_F110W_Absolute',\n",
    "                       'HST_WFC3_IR_F105W_Absolute', 'HST_WFC3_IR_F140W_Absolute',\n",
    "                       'HST_WFC3_IR_F125W_Absolute', 'HST_WFC3_IR_F160W_Absolute',\n",
    "                       'Johnson_B_Absolute', 'Johnson_V_Absolute', 'Johnson_R_Absolute',\n",
    "                       'Johnson_I_Absolute', 'Johnson_J_Absolute', 'Johnson_H_Absolute',\n",
    "                       'Johnson_K_Absolute', 'SDSS_u_Absolute', 'SDSS_g_Absolute',\n",
    "                       'SDSS_r_Absolute', 'SDSS_i_Absolute', 'SDSS_z_Absolute',\n",
    "                       'TwoMASS_J_Absolute', 'TwoMASS_H_Absolute', 'TwoMASS_Ks_Absolute']\n",
    "filters_of_interest_apparent = ['HST_WFC3_IR_F0.98M_Apparent', 'HST_WFC3_IR_F110W_Apparent',\n",
    "                       'HST_WFC3_IR_F105W_Apparent', 'HST_WFC3_IR_F140W_Apparent',\n",
    "                       'HST_WFC3_IR_F125W_Apparent', 'HST_WFC3_IR_F160W_Apparent',\n",
    "                       'Johnson_B_Apparent', 'Johnson_V_Apparent', 'Johnson_R_Apparent',\n",
    "                       'Johnson_I_Apparent', 'Johnson_J_Apparent', 'Johnson_H_Apparent',\n",
    "                       'Johnson_K_Apparent', 'SDSS_u_Apparent', 'SDSS_g_Apparent',\n",
    "                       'SDSS_r_Apparent', 'SDSS_i_Apparent', 'SDSS_z_Apparent',\n",
    "                       'TwoMASS_J_Apparent', 'TwoMASS_H_Apparent', 'TwoMASS_Ks_Apparent'\n",
    "                      ]\n"
   ]
  },
  {
   "cell_type": "code",
   "execution_count": 19,
   "metadata": {},
   "outputs": [
    {
     "name": "stdout",
     "output_type": "stream",
     "text": [
      "Out of 162626 galaxies, 1030 galaxies have boosted mags in filter HST_WFC3_IR_F0.98M_Apparent\n",
      "Max. absolute diff = 0.0026\n",
      "Printing some of the worst sample galaxies\n",
      "###########################################\n",
      "    GalaxyID     Mag(IGM)  Mag(no_IGM)   Diff\n",
      "###########################################\n",
      "251007967000000005      27.6157      27.6179 0.0022 6.27742 6.28249\n",
      "251007932000000009      26.9712      26.9737 0.0025 6.27638 6.28105\n",
      "251007882000000020      27.0876      27.0895 0.0019 6.24576 6.24746\n",
      "251008102000000001      27.8750      27.8769 0.0019 6.25768 6.2563\n",
      "251007867000000450      28.0488      28.0506 0.0018 6.25447 6.25687\n",
      "251007905000000058      27.5095      27.5116 0.0021 6.28163 6.28301\n",
      "251007947000000000      26.9690      26.9716 0.0026 6.27564 6.27967\n",
      "251008002000000000      27.3349      27.3368 0.0019 6.24739 6.24901\n",
      "251007919000000053      27.0447      27.0471 0.0024 6.27213 6.27351\n",
      "251008464000000002      27.0579      27.0601 0.0022 6.26 6.2606\n",
      "Out of 162626 galaxies, 559 galaxies have boosted mags in filter HST_WFC3_IR_F110W_Apparent\n",
      "Max. absolute diff = 0.000400000000003\n",
      "Printing some of the worst sample galaxies\n",
      "###########################################\n",
      "    GalaxyID     Mag(IGM)  Mag(no_IGM)   Diff\n",
      "###########################################\n",
      "251007918000000088      27.1789      27.1793 0.0004 6.22402 6.22568\n",
      "251007882000000020      27.1464      27.1467 0.0003 6.24576 6.24746\n",
      "251007909000000016      27.1154      27.1158 0.0004 6.21573 6.21501\n",
      "252000437000000003      27.4528      27.4531 0.0003 6.22055 6.22252\n",
      "251007918000000001      27.3486      27.3489 0.0003 6.22984 6.23187\n",
      "251008002000000000      27.3894      27.3897 0.0003 6.24739 6.24901\n",
      "251007909000000000      26.9853      26.9856 0.0003 6.21779 6.21833\n",
      "252000824000000000      27.0129      27.0131 0.0002 6.1966 6.19606\n",
      "251008026000000001      27.1294      27.1298 0.0004 6.23231 6.2306\n",
      "251008159000000004      27.2231      27.2235 0.0004 6.22416 6.22467\n",
      "Out of 162626 galaxies, 885 galaxies have boosted mags in filter HST_WFC3_IR_F105W_Apparent\n",
      "Max. absolute diff = 0.0015\n",
      "Printing some of the worst sample galaxies\n",
      "###########################################\n",
      "    GalaxyID     Mag(IGM)  Mag(no_IGM)   Diff\n",
      "###########################################\n",
      "251007967000000005      27.6415      27.6423 0.0008 6.27742 6.28249\n",
      "251007932000000009      27.0036      27.0045 0.0009 6.27638 6.28105\n",
      "251007905000000058      27.5350      27.5358 0.0008 6.28163 6.28301\n",
      "252001922000000000      27.8074      27.8085 0.0011 6.32619 6.32597\n",
      "251007947000000000      27.0021      27.0029 0.0008 6.27564 6.27967\n",
      "252000135000000002      27.6236      27.6250 0.0014 6.315 6.31856\n",
      "251008939000000000      27.1414      27.1422 0.0008 6.27881 6.28154\n",
      "252000134000000002      27.4319      27.4327 0.0008 6.28286 6.28637\n",
      "251010203000000000      27.2609      27.2620 0.0011 6.29028 6.29491\n",
      "251008021000000006      26.9321      26.9331 0.0010 6.28272 6.28909\n",
      "Out of 162626 galaxies, 51 galaxies have boosted mags in filter HST_WFC3_IR_F140W_Apparent\n",
      "Max. absolute diff = 0.0019\n",
      "Printing some of the worst sample galaxies\n",
      "###########################################\n",
      "    GalaxyID     Mag(IGM)  Mag(no_IGM)   Diff\n",
      "###########################################\n",
      "378020619000000022      27.1013      27.1032 0.0019 8.67807 8.68172\n",
      "379001052000000000      27.1021      27.1039 0.0018 8.67679 8.67998\n",
      "378020633000000015      26.9545      26.9555 0.0010 8.6491 8.65041\n",
      "371000116000000022      27.0040      27.0051 0.0011 8.73916 8.73796\n",
      "378000145000000005      27.4364      27.4377 0.0013 8.66494 8.66607\n",
      "378000145000000004      26.9421      26.9435 0.0014 8.66382 8.66529\n",
      "378020696000000000      26.8921      26.8936 0.0015 8.66956 8.66983\n",
      "378020603000000100      26.7010      26.7026 0.0016 8.67147 8.6738\n",
      "378020603000000260      26.9532      26.9547 0.0015 8.66672 8.67101\n",
      "378020603000000027      26.7353      26.7369 0.0016 8.67148 8.672\n",
      "Out of 162626 galaxies, 588 galaxies have boosted mags in filter HST_WFC3_IR_F125W_Apparent\n",
      "Max. absolute diff = 0.0018\n",
      "Printing some of the worst sample galaxies\n",
      "###########################################\n",
      "    GalaxyID     Mag(IGM)  Mag(no_IGM)   Diff\n",
      "###########################################\n",
      "290000136000000016      27.4694      27.4709 0.0015 7.85397 7.85124\n",
      "290000110000000073      27.0927      27.0939 0.0012 7.90918 7.90522\n",
      "290000100000000005      27.1860      27.1874 0.0014 7.84768 7.8469\n",
      "290000077000000069      27.3215      27.3226 0.0011 7.83759 7.83624\n",
      "290000100000000079      27.1811      27.1828 0.0017 7.85595 7.855\n",
      "290000406000000003      27.4303      27.4312 0.0009 7.82875 7.83019\n",
      "290000077000000011      27.1558      27.1569 0.0011 7.82996 7.83087\n",
      "290000672000000000      27.2120      27.2130 0.0010 7.83449 7.83217\n",
      "290000195000000004      27.0336      27.0354 0.0018 7.8709 7.86951\n",
      "290000271000000000      27.1535      27.1547 0.0012 7.83832 7.83511\n",
      "Out of 162626 galaxies, 6 galaxies have boosted mags in filter Johnson_B_Apparent\n",
      "Max. absolute diff = 9.99999999998e-05\n",
      "Printing some of the worst sample galaxies\n",
      "###########################################\n",
      "    GalaxyID     Mag(IGM)  Mag(no_IGM)   Diff\n",
      "###########################################\n",
      "204012176000000004      27.1996      27.1997 0.0001 1.92114 1.92078\n",
      "204004394000000000      27.8775      27.8776 0.0001 1.93523 1.93533\n",
      "204001775000000000      26.6657      26.6658 0.0001 1.92723 1.92839\n",
      "204011725000000056      26.7726      26.7727 0.0001 1.92457 1.92715\n",
      "204012323000000004      24.8660      24.8661 0.0001 1.91716 1.91469\n",
      "204011861000000013      23.5615      23.5616 0.0001 1.91863 1.92037\n",
      "Out of 162626 galaxies, 27 galaxies have boosted mags in filter Johnson_V_Apparent\n",
      "Max. absolute diff = 0.000100000000003\n",
      "Printing some of the worst sample galaxies\n",
      "###########################################\n",
      "    GalaxyID     Mag(IGM)  Mag(no_IGM)   Diff\n",
      "###########################################\n",
      "274004369000000028      27.2001      27.2002 0.0001 2.52843 2.53055\n",
      "275002221000000000      26.3968      26.3969 0.0001 2.6341 2.63208\n",
      "291002890000000047      28.2579      28.2580 0.0001 2.6396 2.64003\n",
      "300003642000000012      29.5510      29.5511 0.0001 2.63326 2.63061\n",
      "275012047000000000      26.4545      26.4546 0.0001 2.63508 2.63649\n",
      "300005448000000000      26.6090      26.6091 0.0001 2.6177 2.61694\n",
      "284000112000000142      27.9079      27.9080 0.0001 2.64419 2.64343\n",
      "300006509000000001      26.5788      26.5789 0.0001 2.62587 2.6248\n",
      "275000138000000006      26.8508      26.8509 0.0001 2.63288 2.6334\n",
      "300003642000000010      27.1360      27.1361 0.0001 2.63049 2.63154\n",
      "Out of 162626 galaxies, 51 galaxies have boosted mags in filter Johnson_R_Apparent\n",
      "Max. absolute diff = 0.000100000000003\n",
      "Printing some of the worst sample galaxies\n",
      "###########################################\n",
      "    GalaxyID     Mag(IGM)  Mag(no_IGM)   Diff\n",
      "###########################################\n",
      "109024800000000000      27.4439      27.4440 0.0001 3.22263 3.22248\n",
      "109019071000000176      27.4571      27.4572 0.0001 3.25503 3.24992\n",
      "109019975000000004      27.2878      27.2879 0.0001 3.23892 3.23956\n",
      "109019205000000021      28.1296      28.1297 0.0001 3.25129 3.25246\n",
      "110010591000002188      26.4573      26.4574 0.0001 3.25238 3.24903\n",
      "109026461000000000      27.3864      27.3865 0.0001 3.22179 3.22179\n",
      " 82020449000000008      28.1067      28.1068 0.0001 3.11935 3.11262\n",
      "109020724000000000      27.4436      27.4437 0.0001 3.21867 3.21952\n",
      "109019078000000565      26.1226      26.1227 0.0001 3.21364 3.21537\n",
      "109019734000000000      28.0524      28.0525 0.0001 3.24326 3.24119\n",
      "Out of 162626 galaxies, 418 galaxies have boosted mags in filter Johnson_I_Apparent\n",
      "Max. absolute diff = 0.000100000000003\n",
      "Printing some of the worst sample galaxies\n",
      "###########################################\n",
      "    GalaxyID     Mag(IGM)  Mag(no_IGM)   Diff\n",
      "###########################################\n",
      "222007048000000000      27.0763      27.0764 0.0001 4.68382 4.68054\n",
      "222004286000000001      27.3808      27.3809 0.0001 4.67707 4.67386\n",
      "222007848000000000      26.9002      26.9003 0.0001 4.67666 4.67348\n",
      "221005547000000011      26.8088      26.8089 0.0001 4.68139 4.67735\n",
      "222004299000000010      28.3120      28.3121 0.0001 4.71106 4.70754\n",
      "130000004000000113      27.0387      27.0388 0.0001 4.71664 4.71375\n",
      "222005504000000000      26.9337      26.9338 0.0001 4.65392 4.65502\n",
      "221005534000000008      28.3209      28.3210 0.0001 4.70819 4.70378\n",
      "222007449000000000      26.8552      26.8553 0.0001 4.69089 4.68994\n",
      "221007019000000000      26.7978      26.7979 0.0001 4.64814 4.64699\n",
      "Out of 162626 galaxies, 76 galaxies have boosted mags in filter Johnson_J_Apparent\n",
      "Max. absolute diff = 0.000100000000003\n",
      "Printing some of the worst sample galaxies\n",
      "###########################################\n",
      "    GalaxyID     Mag(IGM)  Mag(no_IGM)   Diff\n",
      "###########################################\n",
      "300000063000000269      27.1272      27.1273 0.0001 7.48612 7.48675\n",
      "300003564000000207      28.8827      28.8828 0.0001 7.44372 7.44173\n",
      "300000065000000078      27.2135      27.2136 0.0001 7.45943 7.45771\n",
      "300003563000000010      27.4195      27.4196 0.0001 7.48471 7.47924\n",
      "300003563000001167      27.1122      27.1123 0.0001 7.4972 7.49359\n",
      "312002684000000034      27.0310      27.0311 0.0001 7.16806 7.16213\n",
      "300003567000000255      26.9410      26.9411 0.0001 7.4978 7.49734\n",
      "300000063000000036      26.9386      26.9387 0.0001 7.47542 7.47239\n",
      "300000063000000168      26.8718      26.8719 0.0001 7.46891 7.46273\n",
      "300003561000000988      27.0385      27.0386 0.0001 7.51412 7.51224\n",
      "Out of 162626 galaxies, 32 galaxies have boosted mags in filter SDSS_u_Apparent\n",
      "Max. absolute diff = 0.000100000000003\n",
      "Printing some of the worst sample galaxies\n",
      "###########################################\n",
      "    GalaxyID     Mag(IGM)  Mag(no_IGM)   Diff\n",
      "###########################################\n",
      " 64024473000000000      28.1787      28.1788 0.0001 1.45829 1.46195\n",
      " 65000036000000299      27.9092      27.9093 0.0001 1.51826 1.51794\n",
      "126004229000000024      28.2561      28.2562 0.0001 1.5276 1.52548\n",
      "126018071000000000      27.1082      27.1083 0.0001 1.53501 1.53189\n",
      "126004892000000006      29.2852      29.2853 0.0001 1.53359 1.53085\n",
      " 64019042000000066      29.1740      29.1741 0.0001 1.46227 1.46577\n",
      " 64003492000000001      26.7410      26.7411 0.0001 1.454 1.45735\n",
      " 65003295000000001      26.6746      26.6747 0.0001 1.52018 1.51808\n",
      "126007908000000001      29.5344      29.5345 0.0001 1.53096 1.52916\n",
      "126004274000000008      27.8696      27.8697 0.0001 1.52641 1.52279\n",
      "Out of 162626 galaxies, 32 galaxies have boosted mags in filter SDSS_g_Apparent\n",
      "Max. absolute diff = 0.000100000000003\n",
      "Printing some of the worst sample galaxies\n",
      "###########################################\n",
      "    GalaxyID     Mag(IGM)  Mag(no_IGM)   Diff\n",
      "###########################################\n",
      "268001354000000095      28.2079      28.2080 0.0001 2.14264 2.14294\n",
      "268001395000000071      28.3353      28.3354 0.0001 2.14065 2.14192\n",
      "268001662000000013      28.2169      28.2170 0.0001 2.14087 2.14655\n",
      "240012469000000003      30.4475      30.4476 0.0001 2.06133 2.06313\n",
      "271000144000000276      27.4250      27.4251 0.0001 2.11962 2.12192\n",
      "271000225000000013      29.2490      29.2491 0.0001 2.12463 2.12732\n",
      "268001900000000010      26.8467      26.8468 0.0001 2.1435 2.1463\n",
      "271000134000000232      26.9627      26.9628 0.0001 2.1245 2.12819\n",
      "268001565000000025      26.1204      26.1205 0.0001 2.14234 2.14517\n",
      "268007686000000000      28.0288      28.0289 0.0001 2.13945 2.14099\n",
      "Out of 162626 galaxies, 401 galaxies have boosted mags in filter SDSS_r_Apparent\n",
      "Max. absolute diff = 0.000100000000003\n",
      "Printing some of the worst sample galaxies\n",
      "###########################################\n",
      "    GalaxyID     Mag(IGM)  Mag(no_IGM)   Diff\n",
      "###########################################\n",
      "145005655000000008      27.3553      27.3554 0.0001 3.40212 3.40313\n",
      "145000531000000000      26.7697      26.7698 0.0001 3.39631 3.39948\n",
      "145005930000000002      27.9056      27.9057 0.0001 3.40437 3.40666\n",
      "145012118000000000      26.7338      26.7339 0.0001 3.40857 3.41198\n",
      "145015062000000000      28.7061      28.7062 0.0001 3.40427 3.40707\n",
      "145001283000000000      28.2232      28.2233 0.0001 3.39211 3.39367\n",
      "145005368000000071      27.3035      27.3036 0.0001 3.41455 3.41676\n",
      "145006412000000003      28.2412      28.2413 0.0001 3.41008 3.41237\n",
      "145013414000000000      26.8437      26.8438 0.0001 3.42129 3.42306\n",
      "145014890000000000      27.2789      27.2790 0.0001 3.41646 3.41956\n",
      "Out of 162626 galaxies, 24 galaxies have boosted mags in filter SDSS_i_Apparent\n",
      "Max. absolute diff = 9.99999999998e-05\n",
      "Printing some of the worst sample galaxies\n",
      "###########################################\n",
      "    GalaxyID     Mag(IGM)  Mag(no_IGM)   Diff\n",
      "###########################################\n",
      "357020746000000000      26.5992      26.5993 0.0001 4.3123 4.31022\n",
      "357005248000000001      27.1019      27.1020 0.0001 4.32557 4.32292\n",
      "357000093000000020      27.5642      27.5643 0.0001 4.34176 4.34262\n",
      "358000096000000490      27.1155      27.1156 0.0001 4.33276 4.32567\n",
      "358001571000000001      27.2442      27.2443 0.0001 4.32907 4.33028\n",
      "357000223000000010      26.2260      26.2261 0.0001 4.34955 4.35079\n",
      "358000159000000018      26.7451      26.7452 0.0001 4.32394 4.32441\n",
      "286006293000003095      26.6685      26.6686 0.0001 4.32612 4.32611\n",
      "358000096000000090      27.2076      27.2077 0.0001 4.33707 4.33225\n",
      "358001219000000001      26.6417      26.6418 0.0001 4.34993 4.35377\n",
      "Out of 162626 galaxies, 8 galaxies have boosted mags in filter SDSS_z_Apparent\n",
      "Max. absolute diff = 9.99999999998e-05\n",
      "Printing some of the worst sample galaxies\n",
      "###########################################\n",
      "    GalaxyID     Mag(IGM)  Mag(no_IGM)   Diff\n",
      "###########################################\n",
      "213014866000000004      26.7962      26.7963 0.0001 5.34621 5.34265\n",
      "142000089000000014      27.0081      27.0082 0.0001 5.33269 5.32849\n",
      "142000120000000002      27.1825      27.1826 0.0001 5.31509 5.31364\n",
      "210008499000000001      26.7180      26.7181 0.0001 5.34992 5.34732\n",
      "213000146000000344      25.7875      25.7876 0.0001 5.34979 5.34418\n",
      "213000756000000000      25.5511      25.5512 0.0001 5.33104 5.32424\n",
      "213014679000000021      25.0478      25.0479 0.0001 5.35903 5.35637\n",
      "213014655000000139      25.4365      25.4366 0.0001 5.34079 5.33575\n",
      "Out of 162626 galaxies, 264 galaxies have boosted mags in filter TwoMASS_J_Apparent\n",
      "Max. absolute diff = 0.000100000000003\n",
      "Printing some of the worst sample galaxies\n",
      "###########################################\n",
      "    GalaxyID     Mag(IGM)  Mag(no_IGM)   Diff\n",
      "###########################################\n",
      "291003142000000001      27.2053      27.2054 0.0001 7.69241 7.69791\n",
      "300003566000000120      27.3373      27.3374 0.0001 7.42398 7.42386\n",
      "291002839000000751      27.2603      27.2604 0.0001 7.60944 7.6098\n",
      "300003605000000019      27.0943      27.0944 0.0001 7.39715 7.38941\n",
      "291002861000000234      27.1409      27.1410 0.0001 7.61609 7.62006\n",
      "291002909000000032      27.2468      27.2469 0.0001 7.64301 7.65071\n",
      "291003096000000017      27.4081      27.4082 0.0001 7.64565 7.6509\n",
      "291002835000000061      27.2301      27.2302 0.0001 7.67399 7.68183\n",
      "291002835000000172      27.1393      27.1394 0.0001 7.67895 7.68565\n",
      "291003740000000000      27.4211      27.4212 0.0001 7.65242 7.65645\n"
     ]
    },
    {
     "data": {
      "text/plain": [
       "4452"
      ]
     },
     "execution_count": 19,
     "metadata": {},
     "output_type": "execute_result"
    }
   ],
   "source": [
    "assert(find_boosted_galaxies_after_absorption(filters_of_interest_absolute) == 0)\n",
    "find_boosted_galaxies_after_absorption(filters_of_interest_apparent)"
   ]
  },
  {
   "cell_type": "code",
   "execution_count": null,
   "metadata": {},
   "outputs": [],
   "source": []
  }
 ],
 "metadata": {
  "kernelspec": {
   "display_name": "Python 2",
   "language": "python",
   "name": "python2"
  },
  "language_info": {
   "codemirror_mode": {
    "name": "ipython",
    "version": 2
   },
   "file_extension": ".py",
   "mimetype": "text/x-python",
   "name": "python",
   "nbconvert_exporter": "python",
   "pygments_lexer": "ipython2",
   "version": "2.7.15"
  }
 },
 "nbformat": 4,
 "nbformat_minor": 2
}
